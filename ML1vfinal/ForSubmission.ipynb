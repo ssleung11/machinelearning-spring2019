{
 "cells": [
  {
   "cell_type": "markdown",
   "metadata": {},
   "source": [
    "# Test Set"
   ]
  },
  {
   "cell_type": "code",
   "execution_count": 6,
   "metadata": {},
   "outputs": [],
   "source": [
    "import numpy as np\n",
    "import pandas as pd\n",
    "import matplotlib.pyplot as plt\n",
    "from sklearn.externals import joblib\n",
    "from my_measures import BinaryClassificationPerformance\n",
    "from datetime import datetime\n",
    "%matplotlib inline"
   ]
  },
  {
   "cell_type": "code",
   "execution_count": 7,
   "metadata": {},
   "outputs": [
    {
     "data": {
      "text/plain": [
       "'!\"#$%&\\'()*+,-./:;<=>?@[\\\\]^_`{|}~'"
      ]
     },
     "execution_count": 7,
     "metadata": {},
     "output_type": "execute_result"
    }
   ],
   "source": [
    "import string\n",
    "string.punctuation"
   ]
  },
  {
   "cell_type": "markdown",
   "metadata": {},
   "source": [
    "### Read raw test data"
   ]
  },
  {
   "cell_type": "code",
   "execution_count": 8,
   "metadata": {},
   "outputs": [
    {
     "name": "stdout",
     "output_type": "stream",
     "text": [
      "(91000, 14)\n"
     ]
    }
   ],
   "source": [
    "amazon = pd.read_csv('/Users/Shirley/Desktop/amazon_data/raw_data_test.csv')\n",
    "print(amazon.shape)"
   ]
  },
  {
   "cell_type": "code",
   "execution_count": 9,
   "metadata": {},
   "outputs": [
    {
     "name": "stdout",
     "output_type": "stream",
     "text": [
      "I read a lot about Muscovado sugar for years and decided to order some for my Christmas baking.  I give away a lot of baked goodies as thank you gifts to friends, family and those who have helped and supported me and my family over the year, like my Vet and the hospital staff.  There is no comparison.  Everyone was asking what I did to the recipes to improve on already excellent products.  As I was making the doughs and batters, one taste told me that I was onto something great.  I'm not going back to regular sugars.  Muscovado is worth EVERY penny of the extra costs.  Try it once and you'll be hooked.  I am.  Just wish I had purchased it sooner.\n"
     ]
    }
   ],
   "source": [
    "print(amazon.loc[0, \"Text\"])"
   ]
  },
  {
   "cell_type": "code",
   "execution_count": 10,
   "metadata": {},
   "outputs": [
    {
     "name": "stdout",
     "output_type": "stream",
     "text": [
      "   Unnamed: 0  Unnamed: 0.1      Id   ProductId          UserId  \\\n",
      "0      370074         78819   78820  B001E5DZSO  A30L5CFTLVSHB6   \n",
      "1      105085        262411  262412  B000SU8LN0  A1ISPBZI0KPIDV   \n",
      "2      251367         44398   44399  B0018OMTOM  A2EP9H9KGZOYX4   \n",
      "3       25183         85542   85543  B0019FOZC4  A1S0C41FT4SVO6   \n",
      "4      343131        332901  332902  B0001VAFGW  A2UOWSLIBMIM1U   \n",
      "\n",
      "                                       ProfileName  HelpfulnessNumerator  \\\n",
      "0                                        D. Rochon                     4   \n",
      "1  David Traver Adolphus \"Debonair man-about-town\"                     1   \n",
      "2                             Shayna P.  Kleinbaum                     3   \n",
      "3                                             S.K.                     0   \n",
      "4                                       J. Carruth                     4   \n",
      "\n",
      "   HelpfulnessDenominator  Score        Time  \\\n",
      "0                       4      5  1269388800   \n",
      "1                       3      1  1300320000   \n",
      "2                       3      5  1256515200   \n",
      "3                       0      5  1346025600   \n",
      "4                       5      2  1266105600   \n",
      "\n",
      "                                       Summary  \\\n",
      "0                              Superior flavor   \n",
      "1                            Not very pleasant   \n",
      "2            world's fussiest dog loves these!   \n",
      "3                   Wow, from a Matcha novice.   \n",
      "4  My first attempt at eating vegetarian jerky   \n",
      "\n",
      "                                                Text  helpScore  helpful  \n",
      "0  I read a lot about Muscovado sugar for years a...   1.000000     True  \n",
      "1  I put one of these in my mouth, briefly, but d...   0.333333    False  \n",
      "2  My dog (14 year old toy poodle) hates just abo...   1.000000    False  \n",
      "3  I had tried some matcha prior from Red Leaf Te...        NaN    False  \n",
      "4  The texture and toughness of the jerky was ver...   0.800000    False  \n",
      "0.07379120879120879\n"
     ]
    }
   ],
   "source": [
    "print(amazon.head())\n",
    "print(amazon['helpful'].mean())"
   ]
  },
  {
   "cell_type": "markdown",
   "metadata": {},
   "source": [
    "### Feature extraction on natural language data"
   ]
  },
  {
   "cell_type": "code",
   "execution_count": 11,
   "metadata": {},
   "outputs": [],
   "source": [
    "# # http://scikit-learn.org/stable/modules/generated/sklearn.feature_extraction.text.CountVectorizer.html\n",
    "# from sklearn.feature_extraction.text import CountVectorizer\n",
    "# vectorizer = CountVectorizer()\n",
    "# corpus = amazon.Text.as_matrix()\n",
    "# X_bag_of_words = vectorizer.fit_transform(corpus)\n",
    "# print(X_bag_of_words.toarray())"
   ]
  },
  {
   "cell_type": "code",
   "execution_count": 12,
   "metadata": {},
   "outputs": [
    {
     "name": "stderr",
     "output_type": "stream",
     "text": [
      "/Users/Shirley/anaconda3/lib/python3.7/site-packages/sklearn/feature_extraction/hashing.py:102: DeprecationWarning: the option non_negative=True has been deprecated in 0.19 and will be removed in version 0.21.\n",
      "  \" in version 0.21.\", DeprecationWarning)\n"
     ]
    },
    {
     "name": "stdout",
     "output_type": "stream",
     "text": [
      "(91000, 131072)\n"
     ]
    }
   ],
   "source": [
    "# vectorize Bag of Words from review text; as sparse matrix\n",
    "# from sklearn.feature_extraction.text import HashingVectorizer\n",
    "# hv = HashingVectorizer(n_features=2 ** 20, non_negative=True)\n",
    "hv = joblib.load('hv.pkl')\n",
    "X_hv = hv.transform(amazon.Text)\n",
    "print(X_hv.shape)"
   ]
  },
  {
   "cell_type": "code",
   "execution_count": 13,
   "metadata": {},
   "outputs": [],
   "source": [
    "# http://scikit-learn.org/stable/modules/generated/sklearn.feature_extraction.text.TfidfTransformer.html\n",
    "# from sklearn.feature_extraction.text import TfidfTransformer\n",
    "# transformer = TfidfTransformer()\n",
    "transformer = joblib.load('transformer.pkl')\n",
    "X_tfidf = transformer.transform(X_hv)"
   ]
  },
  {
   "cell_type": "code",
   "execution_count": 14,
   "metadata": {},
   "outputs": [
    {
     "name": "stdout",
     "output_type": "stream",
     "text": [
      "<class 'scipy.sparse.csr.csr_matrix'>\n"
     ]
    }
   ],
   "source": [
    "print(type(X_tfidf))"
   ]
  },
  {
   "cell_type": "code",
   "execution_count": 15,
   "metadata": {},
   "outputs": [],
   "source": [
    "def remove_punct(text):\n",
    "    text_nopunct = \"\".join([char for char in text if char not in string.punctuation])# It will discard all punctuations\n",
    "    return text_nopunct\n",
    "\n",
    "\n",
    "\n",
    "amazon['Text'] = amazon['Text'].apply(lambda x: remove_punct(x))\n",
    "# amazon['Score'] = amazon['Score'].astype('int').apply(lambda x: remove_punct(x))\n",
    "amazon['Score'] = amazon['Score'].astype(float)\n",
    "amazon['Summary'] = amazon['Summary'].astype('str').apply(lambda x: remove_punct(x))\n",
    "amazon['ProfileName'] = amazon['ProfileName'].astype('str').apply(lambda x: remove_punct(x))\n",
    "\n"
   ]
  },
  {
   "cell_type": "markdown",
   "metadata": {
    "collapsed": true
   },
   "source": [
    "### Create additional quantitative features"
   ]
  },
  {
   "cell_type": "code",
   "execution_count": 16,
   "metadata": {},
   "outputs": [
    {
     "name": "stdout",
     "output_type": "stream",
     "text": [
      "   lenSum  reviewLenSq  summaryLenSq  reviewLen  summaryLen   timeStamp\n",
      "0     654       408321           225        639          15  1269388800\n",
      "1     423       164836           289        406          17  1300320000\n",
      "2     287        65536           961        256          31  1256515200\n",
      "3    1408      1915456           576       1384          24  1346025600\n",
      "4     357        98596          1849        314          43  1266105600\n",
      "5     123        12321           144        111          12  1213315200\n",
      "6     144        12996           900        114          30  1345334400\n",
      "7     148        19321            81        139           9  1324080000\n",
      "8     902       790321           169        889          13  1344556800\n",
      "9     279        65536           529        256          23  1346025600\n",
      "<class 'pandas.core.frame.DataFrame'>\n"
     ]
    }
   ],
   "source": [
    "# features from Amazon.csv to add to feature set\n",
    "amazon['reviewLen'] = amazon['Text'].str.len()\n",
    "#amazon['summaryLen'] = amazon['Summary'].str.len()\n",
    "amazon['summaryLen'] = amazon['Summary'].str.len().replace(np.nan, 0)\n",
    "amazon['profileName'] = amazon['ProfileName'].str.len().replace(np.nan, 0)\n",
    "# amazon['timeStamp'] = amazon['Time'].between(997228800, 1350864000, inclusive=True).astype('b')\n",
    "amazon['timeStamp'] = amazon['Time']\n",
    "amazon['summaryLenSq'] = amazon['summaryLen']*amazon['summaryLen'].replace(np.nan, 0)\n",
    "amazon['reviewLenSq'] = amazon['reviewLen']*amazon['reviewLen'].replace(np.nan, 0)\n",
    "amazon['lenSq'] = amazon['reviewLen']/amazon['summaryLen'].replace(np.nan, 0)\n",
    "amazon['lenSum'] = amazon['reviewLen']+amazon['summaryLen'].replace(np.nan, 0)\n",
    "# amazon['ScoreSq'] = amazon[\"Score\"] * amazon[\"Score\"].replace(np.nan, 0)\n",
    "#X_quant_features = amazon[[\"Score\", \"lenSum\",\"profileName\", \"reviewLenSq\", \"summaryLenSq\",\"reviewLen\",\"summaryLen\", \"timeStamp\"]]\n",
    "#X_quant_features = amazon[[\"Score\",\"reviewLen\",\"summaryLen\", \"timeStamp\"]]\n",
    "# X_quant_features = amazon[[\"Score\", \"lenSum\", \"reviewLenSq\", \"summaryLenSq\",\"reviewLen\",\"summaryLen\", \"timeStamp\"]]\n",
    "X_quant_features = amazon[[\"lenSum\", \"reviewLenSq\", \"summaryLenSq\",\"reviewLen\",\"summaryLen\", \"timeStamp\"]]\n",
    "#X_quant_features = amazon[[\"Score\", \"lenSum\", \"reviewLenSq\", \"summaryLenSq\", \"timeStamp\"]]\n",
    "#X = X.as_matrix().astype(np.float)\n",
    "#X_quant_features = amazon[[\"Score\", \"reviewLen\"]]\n",
    "print(X_quant_features.head(10))\n",
    "print(type(X_quant_features))"
   ]
  },
  {
   "cell_type": "markdown",
   "metadata": {},
   "source": [
    "### Combine all quantitative features into a single sparse matrix"
   ]
  },
  {
   "cell_type": "code",
   "execution_count": 17,
   "metadata": {},
   "outputs": [
    {
     "name": "stdout",
     "output_type": "stream",
     "text": [
      "(91000, 131078)\n"
     ]
    }
   ],
   "source": [
    "from scipy.sparse import csr_matrix, hstack\n",
    "X_quant_features_csr = csr_matrix(X_quant_features)\n",
    "X_combined = hstack([X_tfidf, X_quant_features_csr])\n",
    "X_matrix = csr_matrix(X_combined) # convert to sparse matrix\n",
    "print(X_matrix.shape)"
   ]
  },
  {
   "cell_type": "markdown",
   "metadata": {},
   "source": [
    "### Create `X`, scaled matrix of features"
   ]
  },
  {
   "cell_type": "code",
   "execution_count": 18,
   "metadata": {},
   "outputs": [
    {
     "name": "stdout",
     "output_type": "stream",
     "text": [
      "(91000, 131078)\n"
     ]
    }
   ],
   "source": [
    "# feature scaling\n",
    "from sklearn.preprocessing import StandardScaler\n",
    "# sc = StandardScaler(with_mean=False)\n",
    "sc = joblib.load('sc.pkl')\n",
    "X = sc.transform(X_matrix)\n",
    "print(X.shape)"
   ]
  },
  {
   "cell_type": "markdown",
   "metadata": {},
   "source": [
    "### create `y`, vector of Labels"
   ]
  },
  {
   "cell_type": "code",
   "execution_count": 19,
   "metadata": {},
   "outputs": [
    {
     "name": "stdout",
     "output_type": "stream",
     "text": [
      "<class 'numpy.ndarray'>\n"
     ]
    }
   ],
   "source": [
    "y = amazon['helpful'].values\n",
    "print(type(y))"
   ]
  },
  {
   "cell_type": "markdown",
   "metadata": {},
   "source": [
    "### predict `y` with the fit on the training set"
   ]
  },
  {
   "cell_type": "code",
   "execution_count": 20,
   "metadata": {},
   "outputs": [],
   "source": [
    "# # MODEL: ordinary least squares\n",
    "# # from sklearn import linear_model\n",
    "# # ols = linear_model.SGDClassifier(loss=\"squared_loss\")\n",
    "# # ols.fit(X, y)\n",
    "# # joblib.dump(ols, 'ols.pkl') # pickle\n",
    "# ols = joblib.load('ols.pkl') # pickle\n",
    "\n",
    "# ols_performance = BinaryClassificationPerformance(ols.predict(X), y, 'ols')\n",
    "# ols_performance.compute_measures()\n",
    "# print(ols_performance.performance_measures)"
   ]
  },
  {
   "cell_type": "code",
   "execution_count": 21,
   "metadata": {},
   "outputs": [],
   "source": [
    "# # MODEL: SVM, linear\n",
    "# # from sklearn import linear_model\n",
    "# # svm = linear_model.SGDClassifier()\n",
    "# # svm.fit(X, y)\n",
    "# # joblib.dump(svm, 'svm.pkl') # pickle\n",
    "# svm = joblib.load('svm.pkl') # pickle\n",
    "\n",
    "# svm_performance = BinaryClassificationPerformance(svm.predict(X), y, 'svm')\n",
    "# svm_performance.compute_measures()\n",
    "# print(svm_performance.performance_measures)"
   ]
  },
  {
   "cell_type": "code",
   "execution_count": 22,
   "metadata": {},
   "outputs": [],
   "source": [
    "# # MODEL: logistic regression\n",
    "# # from sklearn import linear_model\n",
    "# # lgs = linear_model.SGDClassifier(loss='log', n_iter=50, alpha=0.00001)\n",
    "# # lgs.fit(X, y)\n",
    "# # joblib.dump(lgs, 'lgs.pkl') # pickle\n",
    "# lgs = joblib.load('lgs.pkl')\n",
    "\n",
    "# lgs_performance = BinaryClassificationPerformance(lgs.predict(X), y, 'lgs')\n",
    "# lgs_performance.compute_measures()\n",
    "# print(lgs_performance.performance_measures)"
   ]
  },
  {
   "cell_type": "code",
   "execution_count": 23,
   "metadata": {},
   "outputs": [],
   "source": [
    "# # MODEL: Naive Bayes\n",
    "# # from sklearn.naive_bayes import MultinomialNB\n",
    "# # nbs = MultinomialNB()\n",
    "# # nbs.fit(X, y)\n",
    "# # joblib.dump(nbs, 'nbs.pkl') # pickle\n",
    "# nbs = joblib.load('nbs.pkl')\n",
    "\n",
    "# nbs_performance = BinaryClassificationPerformance(nbs.predict(X), y, 'nbs')\n",
    "# nbs_performance.compute_measures()\n",
    "# print(nbs_performance.performance_measures)"
   ]
  },
  {
   "cell_type": "code",
   "execution_count": 24,
   "metadata": {},
   "outputs": [],
   "source": [
    "# # MODEL: Perceptron\n",
    "# # from sklearn import linear_model\n",
    "# # prc = linear_model.SGDClassifier(loss='perceptron')\n",
    "# # prc.fit(X, y)\n",
    "# # joblib.dump(prc, 'prc.pkl') # pickle\n",
    "# prc = joblib.load('prc.pkl')\n",
    "\n",
    "# prc_performance = BinaryClassificationPerformance(prc.predict(X), y, 'prc')\n",
    "# prc_performance.compute_measures()\n",
    "# print(prc_performance.performance_measures)"
   ]
  },
  {
   "cell_type": "code",
   "execution_count": 25,
   "metadata": {},
   "outputs": [],
   "source": [
    "# # MODEL: Ridge Regression Classifier\n",
    "# # from sklearn import linear_model\n",
    "# # rdg = linear_model.RidgeClassifier()\n",
    "# # rdg.fit(X, y)\n",
    "# # joblib.dump(rdg, 'rdg.pkl') # pickle\n",
    "# rdg = joblib.load('rdg.pkl')\n",
    "\n",
    "# rdg_performance = BinaryClassificationPerformance(rdg.predict(X), y, 'rdg')\n",
    "# rdg_performance.compute_measures()\n",
    "# print(rdg_performance.performance_measures)"
   ]
  },
  {
   "cell_type": "code",
   "execution_count": 26,
   "metadata": {},
   "outputs": [
    {
     "name": "stdout",
     "output_type": "stream",
     "text": [
      "{'Pos': 6715, 'Neg': 84285, 'TP': 2861, 'TN': 81081, 'FP': 3204, 'FN': 3854, 'Accuracy': 0.9224395604395604, 'Precision': 0.4717230008244023, 'Recall': 0.42606105733432614, 'desc': 'dtc'}\n"
     ]
    }
   ],
   "source": [
    "# MODEL: Decision Tree Classifier\n",
    "# from sklearn import tree\n",
    "# dtc = tree.DecisionTreeClassifier(max_depth=100)\n",
    "# dtc.fit(X_matrix, y)\n",
    "# joblib.dump(dtc, 'dtc.pkl') # pickle\n",
    "dtc = joblib.load('dtc.pkl')\n",
    "\n",
    "dtc_performance = BinaryClassificationPerformance(dtc.predict(X_matrix), y, 'dtc')\n",
    "dtc_performance.compute_measures()\n",
    "print(dtc_performance.performance_measures)"
   ]
  },
  {
   "cell_type": "markdown",
   "metadata": {},
   "source": [
    "### ROC plot to compare performance of various models and fits"
   ]
  },
  {
   "cell_type": "code",
   "execution_count": 27,
   "metadata": {},
   "outputs": [
    {
     "data": {
      "image/png": "[encoded data removed]",
      "text/plain": [
       "<Figure size 432x288 with 1 Axes>"
      ]
     },
     "metadata": {
      "needs_background": "light"
     },
     "output_type": "display_data"
    }
   ],
   "source": [
    "fits = [dtc_performance]\n",
    "\n",
    "for fit in fits:\n",
    "    plt.plot(fit.performance_measures['FP'] / fit.performance_measures['Neg'], \n",
    "             fit.performance_measures['TP'] / fit.performance_measures['Pos'], 'bo')\n",
    "    plt.text(fit.performance_measures['FP'] / fit.performance_measures['Neg'], \n",
    "             fit.performance_measures['TP'] / fit.performance_measures['Pos'], fit.desc)\n",
    "plt.axis([0, 1, 0, 1])\n",
    "plt.title('ROC plot: test set')\n",
    "plt.xlabel('False positive rate')\n",
    "plt.ylabel('True positive rate')\n",
    "plt.show()"
   ]
  },
  {
   "cell_type": "markdown",
   "metadata": {
    "collapsed": true
   },
   "source": [
    "### looking at reviews based on their classification\n",
    "\n",
    "Let's say we decide that Ridge Regression is the best model for generalization. Let's take a look at some of the reviews and try to make a (subjective) determination of whether it's generalizing well. "
   ]
  },
  {
   "cell_type": "code",
   "execution_count": 275,
   "metadata": {},
   "outputs": [
    {
     "data": {
      "text/plain": [
       "'I read a lot about Muscovado sugar for years and decided to order some for my Christmas baking  I give away a lot of baked goodies as thank you gifts to friends family and those who have helped and supported me and my family over the year like my Vet and the hospital staff  There is no comparison  Everyone was asking what I did to the recipes to improve on already excellent products  As I was making the doughs and batters one taste told me that I was onto something great  Im not going back to regular sugars  Muscovado is worth EVERY penny of the extra costs  Try it once and youll be hooked  I am  Just wish I had purchased it sooner'"
      ]
     },
     "execution_count": 275,
     "metadata": {},
     "output_type": "execute_result"
    }
   ],
   "source": [
    "amazon.loc[0, \"Text\"]"
   ]
  },
  {
   "cell_type": "code",
   "execution_count": 276,
   "metadata": {},
   "outputs": [
    {
     "data": {
      "text/plain": [
       "True"
      ]
     },
     "execution_count": 276,
     "metadata": {},
     "output_type": "execute_result"
    }
   ],
   "source": [
    "amazon.loc[0, \"helpful\"]"
   ]
  },
  {
   "cell_type": "code",
   "execution_count": 179,
   "metadata": {},
   "outputs": [],
   "source": [
    "ridge_predictions = rdg.predict(X)"
   ]
  },
  {
   "cell_type": "code",
   "execution_count": 180,
   "metadata": {},
   "outputs": [
    {
     "data": {
      "text/plain": [
       "(91000,)"
      ]
     },
     "execution_count": 180,
     "metadata": {},
     "output_type": "execute_result"
    }
   ],
   "source": [
    "ridge_predictions.shape"
   ]
  },
  {
   "cell_type": "code",
   "execution_count": 181,
   "metadata": {},
   "outputs": [
    {
     "name": "stdout",
     "output_type": "stream",
     "text": [
      "[False False False ... False False False]\n"
     ]
    }
   ],
   "source": [
    "print(ridge_predictions)"
   ]
  },
  {
   "cell_type": "code",
   "execution_count": 183,
   "metadata": {},
   "outputs": [
    {
     "name": "stdout",
     "output_type": "stream",
     "text": [
      "2484\n",
      "2010-01-27 00:00:00\n",
      "1.0\n",
      "24\n",
      "B001Z7AEW6\n",
      "A powerful chemical aftertaste that rendered anything I tried it onin  cereal coffee tea  close to inedible  Ive found that the other artificial sweeteners are palatable but this stuff is pretty dreadful  And if you read about it its no better or worse than the others despite their claims that it comes right from the garden and is made in a cottage by granny and some elves As well I would submit that some of the rave reviews are corporate plants  seriously look at their list of other reviews  Most importantly despite the green website for Truvia its manufactured by Cargill  Last I looked Cargill was a giant corporation that converts field crops into industrial products  Go ahead and try it but know that you were warned\n",
      "* * * * * * * * * \n",
      "3181\n",
      "2012-02-15 00:00:00\n",
      "5.0\n",
      "0\n",
      "B0029XEY62\n",
      "This is so fabulous I will definitly be ordering again Arrrived quickly and quality was beyond my expectations Thank you so much\n",
      "* * * * * * * * * \n",
      "4807\n",
      "2012-06-28 00:00:00\n",
      "5.0\n",
      "0\n",
      "B0037TIDCI\n",
      "I am an Avon lady and the only bags they offer are too big A lipstick in a bag this size would be lost  So I decided to look for nice smaller white bags and these fit the bill perfectly Although you have to buy in bulk they stack nicely\n",
      "* * * * * * * * * \n",
      "4889\n",
      "2012-08-12 00:00:00\n",
      "5.0\n",
      "0\n",
      "B0043S087A\n",
      "I was getting Authority Lamb through Petsmart online because I moved and there isnt one near me  It wasnt cheap with the shipping and not so cheap even without but my 20 pound shelter dog was doing well on it so Well I ordered two bags of Authority one a few months ago and one recently both came poooorly packaged and were battered and I got a refund on shipping  BUT this last batch had BUGS in it  I didnt notice at first must have been larvae but opened up my dogs vittles vault today only put in there about a week ago and see bugs crawling in it and the vittles vault had been securely closed but as the bag and box got here battered Im sure it was a bug buffet before even reaching me  Needless to say didnt want to feed to my dog and found a pet store open near me on a Sunday and they recommended this brand my dog has a bit of a sensitive tummy and does best on lamb  He loves it  AND its really quite comparable in price AND packaged so much better than Authority  It also has a much sturdier bag to keep nasty things out until I can get it home and put in a vittles vault  This will be my dogs dry food from now on\n",
      "* * * * * * * * * \n",
      "6877\n",
      "2012-06-05 00:00:00\n",
      "4.0\n",
      "1\n",
      "B007U0VHS2\n",
      "My fifth grade class read Maniac Magee and the character enjoys this snack and we dont have it in our area so Amazon was a good sourcebr br The kids were thrilled when I surprised them at the end of the year with this treat during AM snack time  Many wanted to read the book again over summer breakbr br I was hoping to get a discount from the originating company but this didnt happen so Amazon was convenient though the supplier cost and postage was a bit much for one of many gifts I give my students\n",
      "* * * * * * * * * \n",
      "10800\n",
      "2012-03-26 00:00:00\n",
      "5.0\n",
      "1\n",
      "B000NBQUNW\n",
      "The price at Amazon keeps bouncing up and down tending up but having a box shipped automatically with the ability to adjust shipment timing as needed works great  As for the Benecol itself the butter version isnt cheap and is hard to find so we prefer these caramellike chews  We also use Smart Balances Heart Smart butter spread which uses stanolssterols but stores locally have discontinued it so it has to be specialordered at exhorbitant prices and in a hardtostore 6packbr br The wifes Drs have had her all over the map with prescription cholesterol drugs for 20 years but only since she consistently uses the Benecol chews Heart Smart spread and RX Zetia has her numbers become acceptable  In the past shes used Benecol in a pill form but I think they quit making it and it wasnt cheap  Neither are the chews but Amazons price though variable the ease of storage and use and tastiness and the lab test results all make this a highly viable solution to the cholesterol problembr br Over the years whenever shes used some version of Benecol her cholesterol numbers dipped  Having Amazon automatically ship a box every 23 months means she for once is consistently using the stuff and her latest lab tests bare the great results  down to 199 from over 300  And shes been off the CrestorLipitor prescription scheme except Zetia for 6 months because they make her muscles ache  As I understand it Zetia works in the gut like Benecol and Heart Smart not in the liver like Crestor etc so it has had no side effect weve noticed  but Im not sure she even needs the Zetia except to placate the Drsbr br It wont restrict your body from manufacturing its own cholesterol like Lipitor or Crestor work but it definitely will affect your lab results by taking foodsourced cholesterol out of the picture so you wont absorb it out of your intestine  The wife prefers the Benecol because it works and is like eating a piece of candy rather than taking another pill  I let her have her indulgence and for my own cholesterol control I watch my diet use Heart Smart spread instead of butter and rather inconsistently use CholestOff caplets  but my cholesterol count has always been on the high side of normal without pills anyway\n",
      "* * * * * * * * * \n",
      "14382\n",
      "2012-10-09 00:00:00\n",
      "2.0\n",
      "0\n",
      "B0050IMGR2\n",
      "I purchased this locally and its awful I normally use Americolor brand airbrush colors however I was in need of black and couldnt wait for shipping This color is really not black at all Understand Im well aware that black food dyes are derived from multiple hues being blended but the color I mixed myself was more black than this It truly is a dark dark hunter green shade Very disappointing  Their white is also bad I shook the contents as directed like crazyand the pigments never combined I got a watery puddle with some white spots I love KopyKake for their projector but Ill stick to Americolor or Chefmaster for my airbrush colors\n",
      "* * * * * * * * * \n",
      "14668\n",
      "2009-11-03 00:00:00\n",
      "5.0\n",
      "5\n",
      "B001EO5QVO\n",
      "Exactly similar in taste and appearance to a hrefhttpwwwamazoncomgpproductB000IEDUTGKleins Naturals Mango Organic Pack of 6a Sunridge Farms is the brand we found in the bulk dried fruit section of Whole Foods Market  It tastes great and is perfect for those on the go\n",
      "* * * * * * * * * \n",
      "15437\n",
      "2008-05-31 00:00:00\n",
      "1.0\n",
      "10\n",
      "B000FPX7SW\n",
      "The product was awful I tried one dish  threw the rest out It didnt taste or feel close to regular spaghetti I am diabetic so I decided to try low carb spaghetti The write ups on this product are extremely misleading I guessDreamfields Healthy Low Carb Living Pasta Penne Rigate 16Ounce Boxes Pack of 6 i will have to do without spaghetti\n",
      "* * * * * * * * * \n",
      "15589\n",
      "2007-09-08 00:00:00\n",
      "5.0\n",
      "2\n",
      "B000084ERU\n",
      "Pet guardians please take the time to educate yourselves on what goes into your pets food That initiative will give them the gift of a longer healthier life eliminate many chronic health issues that pets face save you money in vet bills in the long run the list of benefits goes on and onbr br I have done extensive research on canine and feline nutrition and I highly recommend if you are going to feed commercial food Welless California Naturals or Innova For a great complete meal I give my dogs all one of those dry foods mixed with a little bit of canned from the same brands water for hydration a touch of a good quality essential oil such as olive flax etc a touch of powdered kelp and alfalfa a splash of organic apple cider vinegar Prozyme digestive enzymes to unlock the nutrients in all that good food and top with a dollop of plain yogurt It sounds like a lot but it takes me less than 5 minutes to assemble the meals for 6 dogs  and they are ridiculously healthy an full of energy even our 3 seniors who are 11 12 and 13 I have two seniors with heart murmurs and at our most recent vet check my dog with the worst heart murmur a 12 year old beagle that I love desperately had a 2grade improvement in condition severity  that is HUGE Good nutrition makes all the difference and as an added bonus I have yet to meet a dog that doesnt like it\n",
      "* * * * * * * * * \n",
      "16773\n",
      "2012-09-25 00:00:00\n",
      "4.0\n",
      "1\n",
      "B0000DG86W\n",
      "I was skeptical buying a tree online but am pleased to say that my bonsai arrived in good health The shipping was excellent and the tree came securely enveloped in a nest of packing peanutsbr br As for the tree itself I have christened him MrMiagTree after that infamous sensei that introduced the world to these majestic miniature arbors Sitting on my desk it brings me peace serenity and balance and at times makes my humble cube feel like the ancient boreal forests of the Orientbr br This coniferous fellow is a source of extreme merriment and joy a beacon of hope in an otherwise bleak backdrop of masonry and anguish So long as my juniper persists in this the harshest of environs then so too can I\n",
      "* * * * * * * * * \n",
      "17842\n",
      "2012-03-06 00:00:00\n",
      "1.0\n",
      "10\n",
      "B0038B3A0A\n",
      "Please be aware that these bars have ALFALFA that has a proven Toxin Lcanavanine this is an analog of an aminoacid that tricks your body into forming dysfunctional DNA When studied in monkeys they will not dare study this in people even though there have been many case reports ALFALFA is a toxin that INDUCES LUPUS Beware Why do these natural companies put bad ingredients in their products  Dr CK\n",
      "* * * * * * * * * \n",
      "17877\n",
      "2010-01-09 00:00:00\n",
      "5.0\n",
      "6\n",
      "B002RNZ3PK\n",
      "I bought some Vegemite to send to friends in Chicago as part of an Aussie gift package to send with my daughter who was staying with them when she came to the US  For Australians Vegemite on toast is regarded as one of lifes staples  We eat it for breakfast afterschool snacks and late night suppers  Its a cureall when were sick and great when were hungover and cant face anything else One note of caution  Vegemite is not designed to be spread thickly on toast  it has to be spread in a very thin even layer otherwise its unpalatable Enjoy\n",
      "* * * * * * * * * \n",
      "18056\n",
      "2011-11-12 00:00:00\n",
      "5.0\n",
      "0\n",
      "B00474AN5C\n",
      "This is the same organic rice dream that my son who is allergic to regular milk drinks  He loves it  The only difference between the rice dream bought on Amazon and the rice dream bought from the grocery store is the price  Amazon is significantly less expensive  BTW UPS destroyed the first 8 pack that was shipped to me  A call to Amazon and a replacement shipment was sent out via overnight service the next day  Typical UPS distruction  Great Amazon service\n",
      "* * * * * * * * * \n",
      "19043\n",
      "2011-11-01 00:00:00\n",
      "4.0\n",
      "0\n",
      "B008RWUHA6\n",
      "These oat clusters were good for snacking as well as for breakfast  While they are touted as clusters I found that they broke into subclusters too quickly ie they turned into something better eaten with a spoon rather than with fingers  Great on its own or mixed with milk or plain yogurt  The list of ingredients places the product squarely in the actually natural vs the marketed as natural category  Good stuff\n",
      "* * * * * * * * * \n",
      "20078\n",
      "2011-04-16 00:00:00\n",
      "5.0\n",
      "0\n",
      "B00362JC8A\n",
      "My wife mixes her blends and this is one she uses to make a strong and bold cup of coffeee The taste is near as good as it gets with no acid Good Coffee\n",
      "* * * * * * * * * \n",
      "23263\n",
      "2009-01-20 00:00:00\n",
      "5.0\n",
      "3\n",
      "B000GAT6NG\n",
      "The Nutiva Organic Coconut Oil 54Ounce Jar is superb  We use it in the kitchen for cooking baking  pastry crusts and for our skin and hair See The Coconut Oil Miracle bookbr br Also this 54 ounce jar is a better buynot only because the purchase contributes to less packaging waste on the planetbut this larger quantity calculates to more cost effectiveness per ounce\n",
      "* * * * * * * * * \n",
      "26148\n",
      "2012-08-03 00:00:00\n",
      "5.0\n",
      "0\n",
      "B002ZOG2K6\n",
      "Perfect way to get your coffee delivered Fresh and my doorstep LOVE MY EOC whole bean botColombian and Italian Roast\n",
      "* * * * * * * * * \n",
      "28876\n",
      "2005-09-08 00:00:00\n",
      "5.0\n",
      "0\n",
      "B0005ZYP24\n",
      "DoubleMint is more refreshing and minty than Spearmint The gum is great for refreshing breath or to quit smoking Another thing what does that other guy mean when he says gum chewing is not environment friendly Yeah chewing gum pollutes the environment What a weirdo\n",
      "* * * * * * * * * \n",
      "30048\n",
      "2012-02-09 00:00:00\n",
      "5.0\n",
      "0\n",
      "B0000CERZK\n",
      "Renees seeds have never failed me yet  these Chocolate Cherry Sunflowers a giant head with lots of little flowers must be seen in person to enjoy Its February and I am still enjoying this great flowers I will try to upload of video to show you all  One key I found I was lucky to have a hot Winter and I keep the ground relative moist with a humus covering for the plants  The ground has to be just correct not soaked or they can become rotten  Good Luck with your seeds\n",
      "* * * * * * * * * \n",
      "35113\n",
      "2011-07-03 00:00:00\n",
      "5.0\n",
      "3\n",
      "B000OKZBFU\n",
      "This is exactly what I wanted  I am a diabtic and wanted  to be able to get something simliar to strbucks  enjoy this  product\n",
      "* * * * * * * * * \n",
      "35631\n",
      "2009-06-29 00:00:00\n",
      "5.0\n",
      "3\n",
      "B001OCKIBY\n",
      "These bars weigh in at 220 calories I was in a situation where that would have been a plus This is it two of us had made it to the summit of Redcloud Peak 14034 ft our second 14000 ft peak of the day after eleven hours of scrambling over rocks and scree It was 600 PM with the sun soon to set at 700 PM It was snowing with the wind blowing the snow horizontally seemingly from all directions We were 4000 vertical feet and seven miles from the trailhead and not sure if we would make it back through the snowstorm That was a perfect situation for one of these 220 calorie peanut bars Fortunately we did have a hrefhttpwwwamazoncomgpproductB000LTM29MNature Valley Granola Barsa and a hrefhttpwwwamazoncomgpproductB000UXNYPUClif Barsa which got us back to our car in the dark in only another four hoursbr br On the other hand for most of the year just sitting around the TV I think 220 calories is a little high The bars have 230 mg of salt also a little much The sugar content is 13 grams out of 46 grams about average for this kind of product although some of the sugar comes in the form of corn syrupbr br As to taste you have to like peanuts The bars taste a lot like Reeses Peanut Butter Cups but without the chocolate The texture is crunchy The surface is sticky at room temperature but ok if you keep them in the refrigerator or carry them up mountains in the snowbr br Altogether I think that these bars are ok in taste and texture but high in calories and salt However they can be just right in calories if that is what you need at the moment\n",
      "* * * * * * * * * \n",
      "37608\n",
      "2012-10-02 00:00:00\n",
      "5.0\n",
      "0\n",
      "B0006345OI\n",
      "My 8 year old German shepherd has a very sensitive stomach  This has been a great fit for her no more random puking or bouts of diarrhea\n",
      "* * * * * * * * * \n",
      "38539\n",
      "2012-06-02 00:00:00\n",
      "5.0\n",
      "0\n",
      "B000XS6RJW\n",
      "After feeding my cats friskies for two years I grew concerned over the quality of their food One cat became morbidly obese while the other had dull fur and little energy I did research on grain free foods and switched over to wellness core for a while but that gave my older cat a urinary tract infection due to high vitamin c content So I switched them over to this formula to see how it is and its wonderful My cats are happy healthy and full of energy Its also much cheaper than wellness and only slightly more expensive than friskies So worth it\n",
      "* * * * * * * * * \n",
      "39088\n",
      "2012-10-07 00:00:00\n",
      "5.0\n",
      "0\n",
      "B004DTCHH8\n",
      "Bought this konjac as a low cal snack Its great tasting brought it to work  my coworkers couldnt get enough Down side is the price 899 for a 3 oz bag Thats just way too much to pay so I havent bought it again\n",
      "* * * * * * * * * \n",
      "40622\n",
      "2011-04-04 00:00:00\n",
      "5.0\n",
      "0\n",
      "B001O2F5VC\n",
      "To be honest I dont know why these are so hard to find in stores  DD loves these  She started eating them around 9mo and shes 15mo now and still loves them  Theyre something different and yummy  Sure sometimes the pieces look plain creepy because the eyes are triangles and sometimes the faces are broken  But theyre made of pretty good stuff and is a good crunchy cracker that also melts nicely in little mouths  Most of the time I eat some too \n",
      "* * * * * * * * * \n",
      "42122\n",
      "2012-03-02 00:00:00\n",
      "1.0\n",
      "0\n",
      "B00455IT22\n",
      "We usually have good luck with Happy Baby products but this one is the exception The smell of the banana bean quinoa mix is the most off putting smell Ive ever experienced and it shouldnt be Independently each of the food items are either appealing or mellow in smell Not so with this product Its almost as if the mix fermented in the packaging and is offgassing the moment you release the contents  My kid eats anything so Im the one that stopped the feeding because of my uneasiness She did however give me the look that said why are you doing this to me\n",
      "* * * * * * * * * \n",
      "44469\n",
      "2011-11-14 00:00:00\n",
      "5.0\n",
      "4\n",
      "B000I4WJ5M\n",
      "Never has a product so arousing hit market shelves anywhere When i produce my spotted dick from its dark corner of creation eyes buldge from their skulls The portion is enormous as can be atested by the clatter when i flop this heeping throbbing spotted dick onto the table Everyone who reads this review should do themselves a favorget yourselves a mouthful of dick today\n",
      "* * * * * * * * * \n",
      "46668\n",
      "2012-08-08 00:00:00\n",
      "5.0\n",
      "0\n",
      "B001FSJCPK\n",
      "Recently one of my elderly cats was diagnosed with an ulcerated cornea that had both bacterial and fungal activity in it wow So I have to somehow get this fully clawed cat to swallow a pill twice a day and also squirt antibiotic gel into her eyes And somehow do this without losing a limb Yeah right This cat is FIERCE Our vet recommended the Pill PocketsWHAT A LIFESAVERbr br I have to squirt gel into my cats eye 3 times a day and get her pilled up twice a day So in the morning and at night she gets a treat afterwards her antifungal pill wrapped in a pill pocket We laugh that shes being rewarded with her pill But shes looking for that pill as soon as we squirt in the eye gel like a crack addict looking for their next high She starts sniffing for her treat immediately SHE LOVES these pill pockets Which amazes me as she is normally not the kind of cat to be fooled by medication wrapped up in treats Nothing else we have ever tried has worked like thesebr br TOTAL recommendation to anyone and everyone from now on I will also give these to my friends who have cats constantly on medication These are a miracle product for us\n",
      "* * * * * * * * * \n",
      "47120\n",
      "2011-07-14 00:00:00\n",
      "5.0\n",
      "0\n",
      "B002KLTB84\n",
      "This olive oil from Spain is delightful  Full of flavor and yet light it is a wonderful addition to salads or any other foods that require a light drizzling of oil  We found this oil in the Cooks Illustated magazine review section and have been using it ever since  We have also given it to friedns and family for gifts and they love it as much as we do  This olive oil is magnifico\n",
      "* * * * * * * * * \n",
      "49211\n",
      "2011-06-23 00:00:00\n",
      "1.0\n",
      "3\n",
      "B000Z4WRXE\n",
      "I love Bigelow teas and based on all the positive reviews I was shocked to find that not only did I not like this one but I cant even force myself to drink it  To me it tastes like artificial rotten eggs and literally nauseates me but maybe its just my particular taste buds  As such Id recommend trying it first before placing a large order\n",
      "* * * * * * * * * \n",
      "49215\n",
      "2009-10-17 00:00:00\n",
      "5.0\n",
      "6\n",
      "B001AIQP8M\n",
      "This is the cookie I always wanted oreo flavor without that weird creme filling crispy on the outside moist and slightly chewy on the inside Perfectbr br Theyre so decadent even my cookieholic self is sated with only twobr br I bought my bag at a store so maybe I got a fresher batch than some of the other reviewers I found nothing to complain about here texturally This is not pretty good for glutenfree this is fanfreakintastic  Finding these delights has made my life just a little bit better Seriously\n",
      "* * * * * * * * * \n",
      "49445\n",
      "2009-04-02 00:00:00\n",
      "4.0\n",
      "5\n",
      "B001TZMDVY\n",
      "I recently purchased some unsweetened Belcolade chocolate in place of the usual Callebaut that I order I love Callebaut but it is very difficult to cut due to the thickness of the giant bars The chipped version available through some vendors is an inferior product Thus I tried Belcolade It is much darker than Callebaut and has a more earthy flavor characteristic of Dutching However it is better and more complex than other dutched chocolates like Lindt I would rate it as high as Callebaut and Valrhona and certainly better than Ghirardelli and the expensive Sharffenberger Best of all The Belcolade is delivered in small wafers and required no cutting just measuring in a cup It saves me a great deal of time and mess Also the price is right and less than virtually every other ultra premium brand\n",
      "* * * * * * * * * \n",
      "51393\n",
      "2008-05-05 00:00:00\n",
      "4.0\n",
      "0\n",
      "B0014WYXTC\n",
      "The grapefruit flavor is a huge hit at my house  Everyone loves the taste  not too sweet not too bitter and very grapefruity despite the dominance of other juice concentrates in the ingredient list  My only real quibble with it is that the cans are too tall to fit in the soft drink can tray in my refrigerator the kind that many new refrigerators have hanging from one of the shelves as a convenient spacesaving measure  These cans are made more for stacking flat on shelves not for rolling out of softdrink trays  Oh yeah  and then there are the 20 grams of sugar per serving but it still beats sugary soft drinks sweetened with highfructose corn syrup by a mile and tastes a heck of a lot better\n",
      "* * * * * * * * * \n",
      "53160\n",
      "2011-03-24 00:00:00\n",
      "5.0\n",
      "3\n",
      "B0015Z20RU\n",
      "I gave up chocolate years ago because I love it TOO much and have no willpower I used to eat it till it was gone I resigned myself to the fact that I had to wait till I got to heaven to eat it again I have been rawvegan for a year now and have discovered I can use the raw organic vegan cacao powder in recipes and I have no issues with it Raw cacao nibs are also okay for mewho knew Navitas Naturals makes excellent products Everything Ive tried from them is wonderful My favorite way to use this cacao powder is in rawvegan ice cream recipes I also make nut butter truffles which everyone fights over Check out the Amazoncom subscribe and save of this product and save a bundle over the health food store prices\n",
      "* * * * * * * * * \n",
      "53466\n",
      "2012-10-14 00:00:00\n",
      "5.0\n",
      "0\n",
      "B0009F3SEQ\n",
      "Im not sure why this is called Womans Energy Maybe it revs up some women but for me its the exact opposite and I get drowsy and sleepy but its a peaceful easy feeling It does contain chamomile The taste well its an herbal tea and most of them taste like grass to me but with a dollop of almond milk and a little agave nectar its quite drinkable Im post menopausal and Im trying to get my HRT on a moon phase schedule so I plan to begin drinking this only on the 4th week of my cycle to see if it will help balance my hormones which have been a mess since my surgery nearly 20 years ago even with compounded bioidentical hormone cream I would recommend this tea but not for an energy boost\n",
      "* * * * * * * * * \n",
      "53888\n",
      "2010-11-01 00:00:00\n",
      "5.0\n",
      "2\n",
      "B000XE4702\n",
      "My mother and brother enjoyed this basket so much they are now hinting for me to send another one They told me the bacon was too die for and the ham was melt in your mouth good  Love someone send them something that wont wilt in a few days so much better than flowers the gift that kept on giving for weeks on end\n",
      "* * * * * * * * * \n",
      "56279\n",
      "2010-03-14 00:00:00\n",
      "5.0\n",
      "3\n",
      "B001WAL1OQ\n",
      "Bight full spectrum light Size is appropriate not too wide or long to fit in the desk lamps Packaging is made from recycled paper no plastics used\n",
      "* * * * * * * * * \n",
      "57807\n",
      "2011-06-13 00:00:00\n",
      "5.0\n",
      "0\n",
      "B003UIFA6S\n",
      "I am a big fan of Fiber Gourmethave never been disappointed with any of their products  Thanks Amazon for carrying this pasta1\n",
      "* * * * * * * * * \n",
      "61098\n",
      "2012-01-12 00:00:00\n",
      "5.0\n",
      "3\n",
      "B000WFNQ6S\n",
      "I am not in the habit of reviewing items I purchase on the internetbr This is actually the first time that I have due to how good this product isbr Started feeding this food to a 12 week old Labrador puppybr He had no trouble transitioning to the new food after only a week of mixingbr Seems to enjoy it more than puppy chow which was what he was started onbr No flatulance but he is still a young puppybr My vet actually asked what I was feeding him due to his coat being so shinybr I would recommend this food to anyone looking for a quality food for their dog\n",
      "* * * * * * * * * \n",
      "61222\n",
      "2012-03-07 00:00:00\n",
      "5.0\n",
      "1\n",
      "B000HQLDJ4\n",
      "Just tried my first tin of these today and was impressed  Ive had octopus before and was used to it being a pretty good challenge chewing on them  These chunks of meat were easy to chew and tasted very goodthey werent grisly at all  I was expecting there to be more veggies in there but there was just enough for flavor which is a good thingmeans you get a lot more meatbr br Another plus is them actually using a healthy oil olivebr br Ill buy these again as I went ahead and did subscribe and saveand Im glad I didbr br Ill be trying the Calamares squid by the same company next\n",
      "* * * * * * * * * \n",
      "63624\n",
      "2012-09-25 00:00:00\n",
      "5.0\n",
      "0\n",
      "B000NY6YBW\n",
      "I worked with a guy from Bosnia that told me about this product  Shake it on Chicken and Bake  Really yummy and easy\n",
      "* * * * * * * * * \n",
      "65519\n",
      "2011-03-04 00:00:00\n",
      "5.0\n",
      "3\n",
      "B003161EV4\n",
      "Ive tried several brands and blends of espresso but they all seem to taste very similar  Most have a strong aroma and dark color  Seems they all have a twinge of bitterness or a bite  It could also be an effect of the caffeinebr br This was very different  It was smooth yet strong and it was perfect in my machine over a 15s pull  It was nice in cappuccino as well but better as a straight espressobr br For the price this is the best value in espresso\n",
      "* * * * * * * * * \n",
      "65826\n",
      "2012-05-03 00:00:00\n",
      "3.0\n",
      "5\n",
      "B00250UD1Y\n",
      "I did an experiment with Peak Powdered Whole Milk and Willpowder We bought both used both Peak came out ahead on all counts The Willpowder is good but another reviewer Sophronia Euphemia in San Diego hit the nail on the head it tastes like evaporated milk and doesnt dissolve well  theres a consistency that is offputting for lack of a better word I still want to try the Nido product but it seems expensive Keep in mind if youre on a lowcarb diet Willpowder is CREAM with zero carbs and Peak is powdered WHOLE MILK with carbs You could also use the Peak to make socalled Hood milk and lower the carbs Homemade LowCarb Milk One cupbr br 12 Tbs of heavy cream depending on how creamy you want itbr 1 13 Tbs of instant dry milkbr 1 cup of cold waterbr sprinkle of saltbr tiny sprinkle of Splenda if you wantbr br Just put the ingredients in and shake it up Refrigeratebr br Calories 65 if 1 Tbs of cream is used 110 if 2 Tbs of cream is usedbr 5 grams of fat  10 grams of fatbr 3 carbs  3 carbsbr 2 grams of protein  2 grams of proteinbr br ANOTHER GREAT PRODUCT THAT MAY WORK FOR YOU NESTLE MEDIA CREMA IN THE CAN NO SUGAR LESS THAN 1 GRAM CARBOHYDRATE AVAILABLE AT SUPERMARKETS AND BIG LOTS WE LIKE IT\n",
      "* * * * * * * * * \n",
      "66428\n",
      "2012-09-08 00:00:00\n",
      "5.0\n",
      "0\n",
      "B000RHXH6K\n",
      "Paella and rissotto makers breath wasy This product is grown in America and stands up very well against expensive imports I love it and buy it in 50 lb bags and store excess in small freezer bags and freeze to protect from bugs\n",
      "* * * * * * * * * \n",
      "69603\n",
      "2009-10-15 00:00:00\n",
      "5.0\n",
      "9\n",
      "B001P1YOGE\n",
      "because this was so divine over slightly melted idiazabal cheese and eggs I bought at a very expensive cookware store this past weekend the variety with white truffle at slightly more   Both are exceptional and worth the indulgence  One word of advice shake the dispenser before using to disperse the truffle pieces  Lift off the lid and that alone gives you quite a truffle hit\n",
      "* * * * * * * * * \n",
      "70607\n",
      "2012-10-10 00:00:00\n",
      "5.0\n",
      "0\n",
      "B000UXKYDK\n",
      "No blood  No crushed roes  No membranes  Nice tight surface  The person who packed the caviar did a great job  The person obviously knew what he or she is doing\n",
      "* * * * * * * * * \n",
      "71589\n",
      "2012-09-08 00:00:00\n",
      "3.0\n",
      "0\n",
      "B0009JMW1C\n",
      "Ive suffered from recurrent bouts of acute sinusitis that have only become worse and worse over the years Every time I get an infection my right maxillary sinus swells up like a balloon Sleeping at night on account of this condition is terribly difficult I often have to resort to using Afrin to decongest my sinuses which is effective but also very painful and not a realistic long term solution because of rebound congestion Now I already irrigate with a motorized system often upwards of 810X daily when Im sick and drinking herbal tea has also become a pasttime to help cope with my sinus disease That being said I bought this tea out of sheer desperation Ill try and have tried next to anything to give myself some relief while I wait for antibiotics to take effect The only thing which I find works even close to as well as Afrin is to megadose on Psuedoephedrine 240 12 times per day which is something that is also unsustainable So keep in mind that the severity of my sinus condition is drastic What I found with this tea is that it seems to help but I cant tell whether or not it works any better than domestic teas that tout similar claims Yogis Breathe Deep and Cold Buster Celestial Sleepytime Sinus Soother and other respiratoryaiding herbal formulations Ive brewed it doublestrong to try and gain the greatest effect and again it seems to work modestly but nothing amazing The taste is a little bitter but I suppose thats a fairly reasonable indicator it has beneficial compounds in it All in all I am likely to stick with the less exotic teas that I can buy at the grocery store As an aside I find Celestials Sweet and Spicy herbal mix to have probably the best mucus thinning effect out of all the teas Ive tried though its not at all marketed as something for this purpose If you read everything they put in it though it makes sense that it would help\n",
      "* * * * * * * * * \n",
      "72111\n",
      "2011-10-08 00:00:00\n",
      "5.0\n",
      "0\n",
      "B000YT5PPM\n",
      "Mumzy is in a nursing home and I sent this as a surprisebr br She loved them and wound up sharing at least half of them with other patients  staffbr br The four cookies per pack was perfect  Just enough for a snackbr br Will order again\n",
      "* * * * * * * * * \n",
      "72143\n",
      "2011-07-17 00:00:00\n",
      "4.0\n",
      "0\n",
      "B000WRZR22\n",
      "i think this product is worth trying it KILLS if you put it on too soon after shaving so be very careful its scent is pleasant but it takes a minute to dry It doesnt make you 100 smellfree it has its own distinct scent once you start to sweat but it is definitely better than the nasty smell one can get when using a chemical antipersperant\n",
      "* * * * * * * * * \n",
      "72761\n",
      "2012-02-25 00:00:00\n",
      "5.0\n",
      "0\n",
      "B001IZIC8I\n",
      "I have roasted baked and decorated with parchment paper  I have a silpat mat too but I find that parchment is so much more convenient for cleanup since I just throw it away afterwards  I also prefer to bake my cookies using parchment instead of silpat for a chewy texture  An extra plus is that the parchment can be reused if you have more than 1 batch of cookies to bakebr br This parchment is also great for decorating baked goods  Ive wrapped brownies and cookie bars with strips of this brown parchment paper and tied with twine for a rustic lookbr br Like others have mentioned there is no easy way to tear the parchment  You have to use the sawtooth cardboard but otherwise this is what I was looking for at a great price\n",
      "* * * * * * * * * \n",
      "73712\n",
      "2012-09-15 00:00:00\n",
      "2.0\n",
      "0\n",
      "B003CXZYYO\n",
      "Before I begin to review this product let me clarify one thing I love green tea and and have tasted many different teas of various typesbr br This tea is little better than something you would buy from Tetley or any other BOG standard tea purveryor who spoil what should otherwise be a noble and fine beverage something to enjoy as you contemplate the wonder and miraculous nature of your own radiant god like presence br br This tea is exactly that  mediocre at best with questionable quantities of reishi the much lauded medicinal mushroom used as a Unique selling pointbr br And the price they ask for this tea further exacerbates matters  I dont know about you but if I pay on average 150  per tea bag providing one cup of tea which tastes like something you would get at ALDI or LIDL then need I say morebr br Buy something else until organo gold get their act together and stop ripping people off with their cheap tea and fancy packaging which probably costs more than the tea itself\n",
      "* * * * * * * * * \n",
      "74938\n",
      "2011-07-20 00:00:00\n",
      "5.0\n",
      "0\n",
      "B000U9Z7PE\n",
      "Dauro Olive Oil is nothing like any other olive oil you buy in your local supermarket Its flavor is complex yet subtlejust delicious  It is the Cadillac of olive oils It has a beautiful greenish gold color You wont be disappointed\n",
      "* * * * * * * * * \n",
      "77133\n",
      "2011-01-20 00:00:00\n",
      "5.0\n",
      "3\n",
      "B001NC8HS6\n",
      "I was shopping at my local drug store late one Saturday night and I stumbled across this brand of animal crackers Ive tried Barnum and Keebler before but not this brand so I wanted to get it These Stauffers Animal Crackers are a lighter version of both the Barnum and Keebler They have less fat and calories and taste more like a cracker whereas the other 2 are more like cookies So I guess you can eat more of these without feeling as guilty One aspect of these Animal Crackers that really stood out for me is that they have amazing shelf life The package I bought is not the same as this one on Amazon  it more resembled a potato chip package So I opened it and ate some and then closed it with a clip and then I forgot about it for a while It must have been sitting there for about 2 months before I remembered I had it So I tried it and it was as good and as fresh as new I was amazed Would definitely buy these again\n",
      "* * * * * * * * * \n",
      "78747\n",
      "2011-11-24 00:00:00\n",
      "2.0\n",
      "0\n",
      "B000YG9YNE\n",
      "75 of the Torino Classical grissini thin bread sticks were broken into pieces  Otherwise the flavor is just a LITTLE better than the other grissini brands  All the brands of the thicker bread sticks have a more natural and fresher flavor  The thicker ones do not taste as artificial as the grissini  I would have given this 4 stars if most of the sticks werent broken\n",
      "* * * * * * * * * \n",
      "81026\n",
      "2010-06-11 00:00:00\n",
      "5.0\n",
      "1\n",
      "B001D8PK30\n",
      "Authentic and flavorful Just mix with yogurt EVOO and a little vinegar Let chicken marinate in this mixture at least an hour and then pop chicken on grill or in a 500 degree oven until done  Thats it Final product is not bright red like many tandooris but there is no artificial red color in it like in many other tandoori preparations\n",
      "* * * * * * * * * \n",
      "81137\n",
      "2009-08-12 00:00:00\n",
      "5.0\n",
      "2\n",
      "B000BQUUTO\n",
      "For years I used a hrefhttpwwwamazoncomgpproductB000HJBKMQSENORET CHEMICAL 300 TERRO LIQUID ANT BAITS BX6a It worked extremely well Within 12 hours all ants were gone However my latest infestation was not responding to Terro in fact they were eating the liquid up but it wasnt killing the ants My neighborhood Hardware Supply store told me that insects could become tolerant to certain pesticides I found the Safer product but was skeptical Take off the spout cover and blast a fine white powder into the cracks or places where the ants are coming through For me it was under two long baseboards in the kitchen Then I swept up the excess white powder into the cracks some more and cleaned the tile of any powder It worked instantly Any ants that even touched the powder immediately started to wiggle and die I have a cat so I cleaned any excess up carefully so she cannot get any on her paws as it is very toxic Its as good as Boric Acidbr br This powder claims to kills Ants Cockroaches Earwigs Silverfish Crickets Millipedes and Centipedes I did notice that immediately after applying this product Silverfish started to appear evidently sensing the chemicals Soon they will be gone Do check it out I am SO glad to be rid of those ants they even got into my freezer where I had chocolate\n",
      "* * * * * * * * * \n",
      "84319\n",
      "2005-09-06 00:00:00\n",
      "5.0\n",
      "0\n",
      "B0000T15LY\n",
      "I am a candy bar addict and a sugar junkie and when I head to the candy bar isle at the local QuickyMart I always pick up a 5th Avenuebr br 5th Avenue is a wondeful blend of chocolate peanut butter and crunch that will leave you hungry for more 5th Avenue is unlike any other cany bar on the market and if youve never tried onedo yourself a big favor You wont regret it Yumbr br Some history on the candy bar from Hersheysbr br William H Luden 18591949 launched his fledgling candy business in 1879 and offered an extensive line including cough drops hard and soft candies chocolates and marshmallow products Unlike many confectioners during that time Luden manufactured his own chocolate for his chocolate novelties and chocolatecoated candies In 1936 he introduced the 5TH AVENUE candy bar a milk chocolate bar with a crunchy peanut butter centerbr br World War II forced Ludens to concentrate production efforts on Ludens menthol throat drops and 5TH AVENUE candy bars for military use Immediately following the war Ludens reverted to producing a full line of confectionery products including the famous Ludens menthol throat drops and 5TH AVENUE candy bar as well as penny candy consisting of ladyfingers pillowcases mint patties penny jujube novelties penny hard candy penny coconut novelties cast marshmallow novelties and a line of penny sugarrolled jelliesbr br Timelinebr br 1859  William H Luden founder bornbr 1879  W H Luden Candy Company establishedbr 1928  Acquired by Food Industries of Philadelphia a holding company owned by the Dietrich familybr 1936  5TH AVENUE candy bar introducedbr 1980  Queen Anne Candy Company Hammond IN acquired by Ludens Incbr 1986  Acquired by Hershey Foods Corporation\n",
      "* * * * * * * * * \n",
      "86305\n",
      "2007-05-13 00:00:00\n",
      "5.0\n",
      "10\n",
      "B000FI4O90\n",
      "First time Ive had success growing anything other than the weeds in my lawnbr br Update Im on my second pump and its failing after 2 weeks I have a homemade hydro system that uses a similar design pump that is going on 2yrs old nonstop Its a very cool design but they need to find a better pump supply Needs a ceramic bushing in the impeller like a quality aquarium pump\n",
      "* * * * * * * * * \n",
      "87561\n",
      "2012-05-08 00:00:00\n",
      "5.0\n",
      "1\n",
      "B0041CD3W0\n",
      "I usually buy The Ginger People chews but this was much cheaper so I tried this and Im very happy  The Chimes are a little bit more gummier and I like it  They are very similar in taste and gingeryness  But the price for the 5 lbs of Chimes was same as 2 lbs of The Ginger Peoples chews  So Im a very happy buyerbr br One thing to consider is that the 5 lbs bag comes in one big bag so theres no smaller bags of it  Not a big deal for me  They are individually wrapped and in perfect commercial grade wrapping  But thats something to know and consider  The Ginger Peoples chews come individually wrapped but inside wax paper which sometimes gets stuck  They also come 20 or so to a smaller bagbr br Anyhow Ill be sticking with these for the future\n",
      "* * * * * * * * * \n",
      "88250\n",
      "2010-04-27 00:00:00\n",
      "5.0\n",
      "0\n",
      "B0075APXFA\n",
      "Had this when on a winery tour  Couldnt find it anywhere except online even at the Bussetto factory  Its a little expensive for the size but its the best salami youll ever taste  Will continue to purchase about 4 at a time\n",
      "* * * * * * * * * \n",
      "88582\n",
      "2011-12-14 00:00:00\n",
      "1.0\n",
      "0\n",
      "B000YGOT3E\n",
      "Claxton Dark Fruitcake has been a holiday tradition in our family since the mid 1950s I ordered it directly from the company this year and when I served it at Thanksgiving my guests and I thought I must have been fooled by a counterfeit website just claiming to sell Claxton fruitcakes It was at best 40 fruits and nuts and consisted of a gummy light colored cake I emailed the company and expressed my disappointment After several emails back and forth and after today talking to one of the owners they assured me that it was the original dark recipebr br In reading the ingredients I noticed that corn syrup sugar and high fructose corn syrup were listed after flour which was the 4th ingredient At the very end were listed molasses spices and 3 artificial food dyes High fructose corn syrup wasnt widely available until the mid 1970s to mid 1980s so Im not sure how it was one of the original ingredientsbr br All of the people I talked to seemed to have the attitude that I was so stupid that I couldnt possibly be observing what I had correctly Although they offered to send replacements if I returned it at my own expense they told me that what I would receive would be identical to what I have One of the owners informed me that they had received zero complaints this yearbr br I am grieving the loss of an almost 55 year tradition but the other 4 cakes are now in the trash\n",
      "* * * * * * * * * \n",
      "89023\n",
      "2012-10-07 00:00:00\n",
      "5.0\n",
      "0\n",
      "B0052P0F2G\n",
      "These tomatoes are tasty and the fact that they are in jars makes me feel good about not eating leached BPAs in food The jars are tinted so the food is protected from light too\n",
      "* * * * * * * * * \n"
     ]
    }
   ],
   "source": [
    "# false positives\n",
    "\n",
    "import random, time\n",
    "\n",
    "for i in range(0, len(ridge_predictions)):\n",
    "    if (ridge_predictions[i] == True):\n",
    "        if (amazon.loc[i, \"helpful\"] == False):\n",
    "            if (random.uniform(0, 1) < 0.05):\n",
    "                print(i)\n",
    "                print(time.strftime('%Y-%m-%d %H:%M:%S', time.gmtime(amazon.loc[i, \"Time\"])))\n",
    "                print(amazon.loc[i, \"Score\"])\n",
    "                print(amazon.loc[i, \"HelpfulnessDenominator\"])\n",
    "                print(amazon.loc[i, \"ProductId\"])\n",
    "                print(amazon.loc[i, \"Text\"])\n",
    "                print('* * * * * * * * * ')"
   ]
  },
  {
   "cell_type": "code",
   "execution_count": null,
   "metadata": {},
   "outputs": [],
   "source": []
  },
  {
   "cell_type": "code",
   "execution_count": null,
   "metadata": {},
   "outputs": [],
   "source": []
  },
  {
   "cell_type": "code",
   "execution_count": null,
   "metadata": {},
   "outputs": [],
   "source": []
  }
 ],
 "metadata": {
  "kernelspec": {
   "display_name": "Python 3",
   "language": "python",
   "name": "python3"
  },
  "language_info": {
   "codemirror_mode": {
    "name": "ipython",
    "version": 3
   },
   "file_extension": ".py",
   "mimetype": "text/x-python",
   "name": "python",
   "nbconvert_exporter": "python",
   "pygments_lexer": "ipython3",
   "version": "3.7.3"
  }
 },
 "nbformat": 4,
 "nbformat_minor": 1
}
